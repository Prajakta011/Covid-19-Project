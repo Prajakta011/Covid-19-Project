{
 "cells": [
  {
   "cell_type": "code",
   "execution_count": 28,
   "metadata": {
    "id": "PLLNXZhxiMli"
   },
   "outputs": [],
   "source": [
    "import numpy as np\n",
    "import pandas as pd\n",
    "import seaborn as sns\n",
    "import matplotlib.pyplot as plt\n",
    "%matplotlib inline"
   ]
  },
  {
   "cell_type": "code",
   "execution_count": 29,
   "metadata": {
    "colab": {
     "base_uri": "https://localhost:8080/",
     "height": 661
    },
    "id": "iEnIOQD6iYVL",
    "outputId": "8537cb02-094c-40a6-a2b2-5d6bfeca0dfd",
    "scrolled": true
   },
   "outputs": [
    {
     "data": {
      "text/html": [
       "<div>\n",
       "<style scoped>\n",
       "    .dataframe tbody tr th:only-of-type {\n",
       "        vertical-align: middle;\n",
       "    }\n",
       "\n",
       "    .dataframe tbody tr th {\n",
       "        vertical-align: top;\n",
       "    }\n",
       "\n",
       "    .dataframe thead th {\n",
       "        text-align: right;\n",
       "    }\n",
       "</style>\n",
       "<table border=\"1\" class=\"dataframe\">\n",
       "  <thead>\n",
       "    <tr style=\"text-align: right;\">\n",
       "      <th></th>\n",
       "      <th>iso_code</th>\n",
       "      <th>Country</th>\n",
       "      <th>Date</th>\n",
       "      <th>total_covid_cases</th>\n",
       "      <th>new_covid_cases</th>\n",
       "      <th>total_covid_deaths</th>\n",
       "      <th>new_covid_deaths</th>\n",
       "      <th>covid_tests</th>\n",
       "      <th>new_covid_tests</th>\n",
       "    </tr>\n",
       "  </thead>\n",
       "  <tbody>\n",
       "    <tr>\n",
       "      <th>0</th>\n",
       "      <td>ABW</td>\n",
       "      <td>Aruba</td>\n",
       "      <td>2020-03-13</td>\n",
       "      <td>2</td>\n",
       "      <td>2</td>\n",
       "      <td>0</td>\n",
       "      <td>0</td>\n",
       "      <td>NaN</td>\n",
       "      <td>NaN</td>\n",
       "    </tr>\n",
       "    <tr>\n",
       "      <th>1</th>\n",
       "      <td>ABW</td>\n",
       "      <td>Aruba</td>\n",
       "      <td>2020-03-20</td>\n",
       "      <td>4</td>\n",
       "      <td>2</td>\n",
       "      <td>0</td>\n",
       "      <td>0</td>\n",
       "      <td>NaN</td>\n",
       "      <td>NaN</td>\n",
       "    </tr>\n",
       "    <tr>\n",
       "      <th>2</th>\n",
       "      <td>ABW</td>\n",
       "      <td>Aruba</td>\n",
       "      <td>2020-03-24</td>\n",
       "      <td>12</td>\n",
       "      <td>8</td>\n",
       "      <td>0</td>\n",
       "      <td>0</td>\n",
       "      <td>NaN</td>\n",
       "      <td>NaN</td>\n",
       "    </tr>\n",
       "    <tr>\n",
       "      <th>3</th>\n",
       "      <td>ABW</td>\n",
       "      <td>Aruba</td>\n",
       "      <td>2020-03-25</td>\n",
       "      <td>17</td>\n",
       "      <td>5</td>\n",
       "      <td>0</td>\n",
       "      <td>0</td>\n",
       "      <td>NaN</td>\n",
       "      <td>NaN</td>\n",
       "    </tr>\n",
       "    <tr>\n",
       "      <th>4</th>\n",
       "      <td>ABW</td>\n",
       "      <td>Aruba</td>\n",
       "      <td>2020-03-26</td>\n",
       "      <td>19</td>\n",
       "      <td>2</td>\n",
       "      <td>0</td>\n",
       "      <td>0</td>\n",
       "      <td>NaN</td>\n",
       "      <td>NaN</td>\n",
       "    </tr>\n",
       "    <tr>\n",
       "      <th>...</th>\n",
       "      <td>...</td>\n",
       "      <td>...</td>\n",
       "      <td>...</td>\n",
       "      <td>...</td>\n",
       "      <td>...</td>\n",
       "      <td>...</td>\n",
       "      <td>...</td>\n",
       "      <td>...</td>\n",
       "      <td>...</td>\n",
       "    </tr>\n",
       "    <tr>\n",
       "      <th>19491</th>\n",
       "      <td>NaN</td>\n",
       "      <td>International</td>\n",
       "      <td>2020-02-28</td>\n",
       "      <td>705</td>\n",
       "      <td>0</td>\n",
       "      <td>4</td>\n",
       "      <td>0</td>\n",
       "      <td>NaN</td>\n",
       "      <td>NaN</td>\n",
       "    </tr>\n",
       "    <tr>\n",
       "      <th>19492</th>\n",
       "      <td>NaN</td>\n",
       "      <td>International</td>\n",
       "      <td>2020-02-29</td>\n",
       "      <td>705</td>\n",
       "      <td>0</td>\n",
       "      <td>6</td>\n",
       "      <td>2</td>\n",
       "      <td>NaN</td>\n",
       "      <td>NaN</td>\n",
       "    </tr>\n",
       "    <tr>\n",
       "      <th>19493</th>\n",
       "      <td>NaN</td>\n",
       "      <td>International</td>\n",
       "      <td>2020-03-01</td>\n",
       "      <td>705</td>\n",
       "      <td>0</td>\n",
       "      <td>6</td>\n",
       "      <td>0</td>\n",
       "      <td>NaN</td>\n",
       "      <td>NaN</td>\n",
       "    </tr>\n",
       "    <tr>\n",
       "      <th>19494</th>\n",
       "      <td>NaN</td>\n",
       "      <td>International</td>\n",
       "      <td>2020-03-02</td>\n",
       "      <td>705</td>\n",
       "      <td>0</td>\n",
       "      <td>6</td>\n",
       "      <td>0</td>\n",
       "      <td>NaN</td>\n",
       "      <td>NaN</td>\n",
       "    </tr>\n",
       "    <tr>\n",
       "      <th>19495</th>\n",
       "      <td>NaN</td>\n",
       "      <td>International</td>\n",
       "      <td>2020-03-10</td>\n",
       "      <td>696</td>\n",
       "      <td>-9</td>\n",
       "      <td>7</td>\n",
       "      <td>1</td>\n",
       "      <td>NaN</td>\n",
       "      <td>NaN</td>\n",
       "    </tr>\n",
       "  </tbody>\n",
       "</table>\n",
       "<p>19496 rows × 9 columns</p>\n",
       "</div>"
      ],
      "text/plain": [
       "      iso_code        Country        Date  total_covid_cases  new_covid_cases  \\\n",
       "0          ABW          Aruba  2020-03-13                  2                2   \n",
       "1          ABW          Aruba  2020-03-20                  4                2   \n",
       "2          ABW          Aruba  2020-03-24                 12                8   \n",
       "3          ABW          Aruba  2020-03-25                 17                5   \n",
       "4          ABW          Aruba  2020-03-26                 19                2   \n",
       "...        ...            ...         ...                ...              ...   \n",
       "19491      NaN  International  2020-02-28                705                0   \n",
       "19492      NaN  International  2020-02-29                705                0   \n",
       "19493      NaN  International  2020-03-01                705                0   \n",
       "19494      NaN  International  2020-03-02                705                0   \n",
       "19495      NaN  International  2020-03-10                696               -9   \n",
       "\n",
       "       total_covid_deaths  new_covid_deaths  covid_tests  new_covid_tests  \n",
       "0                       0                 0          NaN              NaN  \n",
       "1                       0                 0          NaN              NaN  \n",
       "2                       0                 0          NaN              NaN  \n",
       "3                       0                 0          NaN              NaN  \n",
       "4                       0                 0          NaN              NaN  \n",
       "...                   ...               ...          ...              ...  \n",
       "19491                   4                 0          NaN              NaN  \n",
       "19492                   6                 2          NaN              NaN  \n",
       "19493                   6                 0          NaN              NaN  \n",
       "19494                   6                 0          NaN              NaN  \n",
       "19495                   7                 1          NaN              NaN  \n",
       "\n",
       "[19496 rows x 9 columns]"
      ]
     },
     "execution_count": 29,
     "metadata": {},
     "output_type": "execute_result"
    }
   ],
   "source": [
    "df=pd.read_csv('edit_covid1.csv',date_parser=['Date'])\n",
    "df"
   ]
  },
  {
   "cell_type": "code",
   "execution_count": 30,
   "metadata": {
    "colab": {
     "base_uri": "https://localhost:8080/"
    },
    "id": "mZYEq3oUidXu",
    "outputId": "cb71a7dd-4c49-4698-c0b0-c3e40847f0ca"
   },
   "outputs": [
    {
     "data": {
      "text/plain": [
       "iso_code                 64\n",
       "Country                   0\n",
       "Date                      0\n",
       "total_covid_cases         0\n",
       "new_covid_cases           0\n",
       "total_covid_deaths        0\n",
       "new_covid_deaths          0\n",
       "covid_tests           14332\n",
       "new_covid_tests       14904\n",
       "dtype: int64"
      ]
     },
     "execution_count": 30,
     "metadata": {},
     "output_type": "execute_result"
    }
   ],
   "source": [
    "## cheak null values\n",
    "df.isnull().sum()"
   ]
  },
  {
   "cell_type": "code",
   "execution_count": 31,
   "metadata": {
    "colab": {
     "base_uri": "https://localhost:8080/"
    },
    "id": "SKoyoUtWiis-",
    "outputId": "1d40bf9d-de2f-4b29-bc70-c500f4924c4e"
   },
   "outputs": [
    {
     "data": {
      "text/plain": [
       "Sweden            146\n",
       "Canada            146\n",
       "United States     146\n",
       "Lithuania         146\n",
       "Brazil            146\n",
       "                 ... \n",
       "Yemen              45\n",
       "Western Sahara     29\n",
       "Tajikistan         24\n",
       "Comoros            23\n",
       "Lesotho            10\n",
       "Name: Country, Length: 212, dtype: int64"
      ]
     },
     "execution_count": 31,
     "metadata": {},
     "output_type": "execute_result"
    }
   ],
   "source": [
    "df['Country'].value_counts()"
   ]
  },
  {
   "cell_type": "code",
   "execution_count": 32,
   "metadata": {
    "colab": {
     "base_uri": "https://localhost:8080/"
    },
    "id": "Knfo8lDminv9",
    "outputId": "c3ee0bc8-33db-4166-e296-191cb8d561de"
   },
   "outputs": [
    {
     "name": "stdout",
     "output_type": "stream",
     "text": [
      "<class 'pandas.core.frame.DataFrame'>\n",
      "RangeIndex: 19496 entries, 0 to 19495\n",
      "Data columns (total 9 columns):\n",
      " #   Column              Non-Null Count  Dtype  \n",
      "---  ------              --------------  -----  \n",
      " 0   iso_code            19432 non-null  object \n",
      " 1   Country             19496 non-null  object \n",
      " 2   Date                19496 non-null  object \n",
      " 3   total_covid_cases   19496 non-null  int64  \n",
      " 4   new_covid_cases     19496 non-null  int64  \n",
      " 5   total_covid_deaths  19496 non-null  int64  \n",
      " 6   new_covid_deaths    19496 non-null  int64  \n",
      " 7   covid_tests         5164 non-null   float64\n",
      " 8   new_covid_tests     4592 non-null   float64\n",
      "dtypes: float64(2), int64(4), object(3)\n",
      "memory usage: 1.3+ MB\n"
     ]
    }
   ],
   "source": [
    "df.info()"
   ]
  },
  {
   "cell_type": "code",
   "execution_count": 33,
   "metadata": {
    "colab": {
     "base_uri": "https://localhost:8080/",
     "height": 175
    },
    "id": "sFJ06uOsiuFn",
    "outputId": "8677a47b-0701-45f2-af0c-1db9fb80c027"
   },
   "outputs": [
    {
     "data": {
      "text/html": [
       "<div>\n",
       "<style scoped>\n",
       "    .dataframe tbody tr th:only-of-type {\n",
       "        vertical-align: middle;\n",
       "    }\n",
       "\n",
       "    .dataframe tbody tr th {\n",
       "        vertical-align: top;\n",
       "    }\n",
       "\n",
       "    .dataframe thead th {\n",
       "        text-align: right;\n",
       "    }\n",
       "</style>\n",
       "<table border=\"1\" class=\"dataframe\">\n",
       "  <thead>\n",
       "    <tr style=\"text-align: right;\">\n",
       "      <th></th>\n",
       "      <th>iso_code</th>\n",
       "      <th>Country</th>\n",
       "      <th>Date</th>\n",
       "    </tr>\n",
       "  </thead>\n",
       "  <tbody>\n",
       "    <tr>\n",
       "      <th>count</th>\n",
       "      <td>19432</td>\n",
       "      <td>19496</td>\n",
       "      <td>19496</td>\n",
       "    </tr>\n",
       "    <tr>\n",
       "      <th>unique</th>\n",
       "      <td>211</td>\n",
       "      <td>212</td>\n",
       "      <td>146</td>\n",
       "    </tr>\n",
       "    <tr>\n",
       "      <th>top</th>\n",
       "      <td>OWID_WRL</td>\n",
       "      <td>Sweden</td>\n",
       "      <td>2020-05-18</td>\n",
       "    </tr>\n",
       "    <tr>\n",
       "      <th>freq</th>\n",
       "      <td>146</td>\n",
       "      <td>146</td>\n",
       "      <td>211</td>\n",
       "    </tr>\n",
       "  </tbody>\n",
       "</table>\n",
       "</div>"
      ],
      "text/plain": [
       "        iso_code Country        Date\n",
       "count      19432   19496       19496\n",
       "unique       211     212         146\n",
       "top     OWID_WRL  Sweden  2020-05-18\n",
       "freq         146     146         211"
      ]
     },
     "execution_count": 33,
     "metadata": {},
     "output_type": "execute_result"
    }
   ],
   "source": [
    "## its for numerical feature\n",
    "df.describe()\n",
    "## now its for catagorical feature\n",
    "df.describe(include='O')"
   ]
  },
  {
   "cell_type": "code",
   "execution_count": 34,
   "metadata": {
    "colab": {
     "base_uri": "https://localhost:8080/",
     "height": 1000
    },
    "id": "jZxVHgdoixPN",
    "outputId": "4658fbf8-dc6a-486a-bcbe-fce6c986a0cb"
   },
   "outputs": [
    {
     "name": "stdout",
     "output_type": "stream",
     "text": [
      "['Aruba' 'Afghanistan' 'Angola' 'Anguilla' 'Albania' 'Andorra'\n",
      " 'United Arab Emirates' 'Argentina' 'Armenia' 'Antigua and Barbuda'\n",
      " 'Australia' 'Austria' 'Azerbaijan' 'Burundi' 'Belgium' 'Benin'\n",
      " 'Bonaire Sint Eustatius and Saba' 'Burkina Faso' 'Bangladesh' 'Bulgaria'\n",
      " 'Bahrain' 'Bahamas' 'Bosnia and Herzegovina' 'Belarus' 'Belize' 'Bermuda'\n",
      " 'Bolivia' 'Brazil' 'Barbados' 'Brunei' 'Bhutan' 'Botswana'\n",
      " 'Central African Republic' 'Canada' 'Switzerland' 'Chile' 'China'\n",
      " \"Cote d'Ivoire\" 'Cameroon' 'Democratic Republic of Congo' 'Congo'\n",
      " 'Colombia' 'Comoros' 'Cape Verde' 'Costa Rica' 'Cuba' 'Curacao'\n",
      " 'Cayman Islands' 'Cyprus' 'Czech Republic' 'Germany' 'Djibouti'\n",
      " 'Dominica' 'Denmark' 'Dominican Republic' 'Algeria' 'Ecuador' 'Egypt'\n",
      " 'Eritrea' 'Western Sahara' 'Spain' 'Estonia' 'Ethiopia' 'Finland' 'Fiji'\n",
      " 'Falkland Islands' 'France' 'Faeroe Islands' 'Gabon' 'United Kingdom'\n",
      " 'Georgia' 'Guernsey' 'Ghana' 'Gibraltar' 'Guinea' 'Gambia'\n",
      " 'Guinea-Bissau' 'Equatorial Guinea' 'Greece' 'Grenada' 'Greenland'\n",
      " 'Guatemala' 'Guam' 'Guyana' 'Hong Kong' 'Honduras' 'Croatia' 'Haiti'\n",
      " 'Hungary' 'Indonesia' 'Isle of Man' 'India' 'Ireland' 'Iran' 'Iraq'\n",
      " 'Iceland' 'Israel' 'Italy' 'Jamaica' 'Jersey' 'Jordan' 'Japan'\n",
      " 'Kazakhstan' 'Kenya' 'Kyrgyzstan' 'Cambodia' 'Saint Kitts and Nevis'\n",
      " 'South Korea' 'Kuwait' 'Laos' 'Lebanon' 'Liberia' 'Libya' 'Saint Lucia'\n",
      " 'Liechtenstein' 'Sri Lanka' 'Lesotho' 'Lithuania' 'Luxembourg' 'Latvia'\n",
      " 'Morocco' 'Monaco' 'Moldova' 'Madagascar' 'Maldives' 'Mexico' 'Macedonia'\n",
      " 'Mali' 'Malta' 'Myanmar' 'Montenegro' 'Mongolia'\n",
      " 'Northern Mariana Islands' 'Mozambique' 'Mauritania' 'Montserrat'\n",
      " 'Mauritius' 'Malawi' 'Malaysia' 'Namibia' 'New Caledonia' 'Niger'\n",
      " 'Nigeria' 'Nicaragua' 'Netherlands' 'Norway' 'Nepal' 'New Zealand' 'Oman'\n",
      " 'Pakistan' 'Panama' 'Peru' 'Philippines' 'Papua New Guinea' 'Poland'\n",
      " 'Puerto Rico' 'Portugal' 'Paraguay' 'Palestine' 'French Polynesia'\n",
      " 'Qatar' 'Romania' 'Russia' 'Rwanda' 'Saudi Arabia' 'Sudan' 'Senegal'\n",
      " 'Singapore' 'Sierra Leone' 'El Salvador' 'San Marino' 'Somalia' 'Serbia'\n",
      " 'South Sudan' 'Sao Tome and Principe' 'Suriname' 'Slovakia' 'Slovenia'\n",
      " 'Sweden' 'Swaziland' 'Sint Maarten (Dutch part)' 'Seychelles' 'Syria'\n",
      " 'Turks and Caicos Islands' 'Chad' 'Togo' 'Thailand' 'Tajikistan' 'Timor'\n",
      " 'Trinidad and Tobago' 'Tunisia' 'Turkey' 'Taiwan' 'Tanzania' 'Uganda'\n",
      " 'Ukraine' 'Uruguay' 'United States' 'Uzbekistan' 'Vatican'\n",
      " 'Saint Vincent and the Grenadines' 'Venezuela' 'British Virgin Islands'\n",
      " 'United States Virgin Islands' 'Vietnam' 'Kosovo' 'Yemen' 'South Africa'\n",
      " 'Zambia' 'Zimbabwe' 'World' 'International']\n",
      "Enter The country:-Singapore\n"
     ]
    },
    {
     "data": {
      "text/html": [
       "<div>\n",
       "<style scoped>\n",
       "    .dataframe tbody tr th:only-of-type {\n",
       "        vertical-align: middle;\n",
       "    }\n",
       "\n",
       "    .dataframe tbody tr th {\n",
       "        vertical-align: top;\n",
       "    }\n",
       "\n",
       "    .dataframe thead th {\n",
       "        text-align: right;\n",
       "    }\n",
       "</style>\n",
       "<table border=\"1\" class=\"dataframe\">\n",
       "  <thead>\n",
       "    <tr style=\"text-align: right;\">\n",
       "      <th></th>\n",
       "      <th>iso_code</th>\n",
       "      <th>Country</th>\n",
       "      <th>Date</th>\n",
       "      <th>total_covid_cases</th>\n",
       "      <th>new_covid_cases</th>\n",
       "      <th>total_covid_deaths</th>\n",
       "      <th>new_covid_deaths</th>\n",
       "      <th>covid_tests</th>\n",
       "      <th>new_covid_tests</th>\n",
       "    </tr>\n",
       "  </thead>\n",
       "  <tbody>\n",
       "    <tr>\n",
       "      <th>15877</th>\n",
       "      <td>SGP</td>\n",
       "      <td>Singapore</td>\n",
       "      <td>2019-12-31</td>\n",
       "      <td>0</td>\n",
       "      <td>0</td>\n",
       "      <td>0</td>\n",
       "      <td>0</td>\n",
       "      <td>NaN</td>\n",
       "      <td>NaN</td>\n",
       "    </tr>\n",
       "    <tr>\n",
       "      <th>15878</th>\n",
       "      <td>SGP</td>\n",
       "      <td>Singapore</td>\n",
       "      <td>2020-01-01</td>\n",
       "      <td>0</td>\n",
       "      <td>0</td>\n",
       "      <td>0</td>\n",
       "      <td>0</td>\n",
       "      <td>NaN</td>\n",
       "      <td>NaN</td>\n",
       "    </tr>\n",
       "    <tr>\n",
       "      <th>15879</th>\n",
       "      <td>SGP</td>\n",
       "      <td>Singapore</td>\n",
       "      <td>2020-01-02</td>\n",
       "      <td>0</td>\n",
       "      <td>0</td>\n",
       "      <td>0</td>\n",
       "      <td>0</td>\n",
       "      <td>NaN</td>\n",
       "      <td>NaN</td>\n",
       "    </tr>\n",
       "    <tr>\n",
       "      <th>15880</th>\n",
       "      <td>SGP</td>\n",
       "      <td>Singapore</td>\n",
       "      <td>2020-01-03</td>\n",
       "      <td>0</td>\n",
       "      <td>0</td>\n",
       "      <td>0</td>\n",
       "      <td>0</td>\n",
       "      <td>NaN</td>\n",
       "      <td>NaN</td>\n",
       "    </tr>\n",
       "    <tr>\n",
       "      <th>15881</th>\n",
       "      <td>SGP</td>\n",
       "      <td>Singapore</td>\n",
       "      <td>2020-01-04</td>\n",
       "      <td>0</td>\n",
       "      <td>0</td>\n",
       "      <td>0</td>\n",
       "      <td>0</td>\n",
       "      <td>NaN</td>\n",
       "      <td>NaN</td>\n",
       "    </tr>\n",
       "    <tr>\n",
       "      <th>...</th>\n",
       "      <td>...</td>\n",
       "      <td>...</td>\n",
       "      <td>...</td>\n",
       "      <td>...</td>\n",
       "      <td>...</td>\n",
       "      <td>...</td>\n",
       "      <td>...</td>\n",
       "      <td>...</td>\n",
       "      <td>...</td>\n",
       "    </tr>\n",
       "    <tr>\n",
       "      <th>16018</th>\n",
       "      <td>SGP</td>\n",
       "      <td>Singapore</td>\n",
       "      <td>2020-05-20</td>\n",
       "      <td>28794</td>\n",
       "      <td>451</td>\n",
       "      <td>22</td>\n",
       "      <td>0</td>\n",
       "      <td>NaN</td>\n",
       "      <td>NaN</td>\n",
       "    </tr>\n",
       "    <tr>\n",
       "      <th>16019</th>\n",
       "      <td>SGP</td>\n",
       "      <td>Singapore</td>\n",
       "      <td>2020-05-21</td>\n",
       "      <td>29364</td>\n",
       "      <td>570</td>\n",
       "      <td>22</td>\n",
       "      <td>0</td>\n",
       "      <td>NaN</td>\n",
       "      <td>NaN</td>\n",
       "    </tr>\n",
       "    <tr>\n",
       "      <th>16020</th>\n",
       "      <td>SGP</td>\n",
       "      <td>Singapore</td>\n",
       "      <td>2020-05-22</td>\n",
       "      <td>29812</td>\n",
       "      <td>448</td>\n",
       "      <td>23</td>\n",
       "      <td>1</td>\n",
       "      <td>NaN</td>\n",
       "      <td>NaN</td>\n",
       "    </tr>\n",
       "    <tr>\n",
       "      <th>16021</th>\n",
       "      <td>SGP</td>\n",
       "      <td>Singapore</td>\n",
       "      <td>2020-05-23</td>\n",
       "      <td>30426</td>\n",
       "      <td>614</td>\n",
       "      <td>23</td>\n",
       "      <td>0</td>\n",
       "      <td>NaN</td>\n",
       "      <td>NaN</td>\n",
       "    </tr>\n",
       "    <tr>\n",
       "      <th>16022</th>\n",
       "      <td>SGP</td>\n",
       "      <td>Singapore</td>\n",
       "      <td>2020-05-24</td>\n",
       "      <td>31068</td>\n",
       "      <td>642</td>\n",
       "      <td>23</td>\n",
       "      <td>0</td>\n",
       "      <td>NaN</td>\n",
       "      <td>NaN</td>\n",
       "    </tr>\n",
       "  </tbody>\n",
       "</table>\n",
       "<p>146 rows × 9 columns</p>\n",
       "</div>"
      ],
      "text/plain": [
       "      iso_code    Country        Date  total_covid_cases  new_covid_cases  \\\n",
       "15877      SGP  Singapore  2019-12-31                  0                0   \n",
       "15878      SGP  Singapore  2020-01-01                  0                0   \n",
       "15879      SGP  Singapore  2020-01-02                  0                0   \n",
       "15880      SGP  Singapore  2020-01-03                  0                0   \n",
       "15881      SGP  Singapore  2020-01-04                  0                0   \n",
       "...        ...        ...         ...                ...              ...   \n",
       "16018      SGP  Singapore  2020-05-20              28794              451   \n",
       "16019      SGP  Singapore  2020-05-21              29364              570   \n",
       "16020      SGP  Singapore  2020-05-22              29812              448   \n",
       "16021      SGP  Singapore  2020-05-23              30426              614   \n",
       "16022      SGP  Singapore  2020-05-24              31068              642   \n",
       "\n",
       "       total_covid_deaths  new_covid_deaths  covid_tests  new_covid_tests  \n",
       "15877                   0                 0          NaN              NaN  \n",
       "15878                   0                 0          NaN              NaN  \n",
       "15879                   0                 0          NaN              NaN  \n",
       "15880                   0                 0          NaN              NaN  \n",
       "15881                   0                 0          NaN              NaN  \n",
       "...                   ...               ...          ...              ...  \n",
       "16018                  22                 0          NaN              NaN  \n",
       "16019                  22                 0          NaN              NaN  \n",
       "16020                  23                 1          NaN              NaN  \n",
       "16021                  23                 0          NaN              NaN  \n",
       "16022                  23                 0          NaN              NaN  \n",
       "\n",
       "[146 rows x 9 columns]"
      ]
     },
     "execution_count": 34,
     "metadata": {},
     "output_type": "execute_result"
    }
   ],
   "source": [
    "### \n",
    "print(df.Country.unique())\n",
    "a=input(\"Enter The country:-\")\n",
    "cntry=df[df.Country==a]\n",
    "cntry\n"
   ]
  },
  {
   "cell_type": "code",
   "execution_count": 35,
   "metadata": {
    "colab": {
     "base_uri": "https://localhost:8080/",
     "height": 357
    },
    "id": "cDavwbJGi4ce",
    "outputId": "9dc0de3e-6032-4df0-abf5-e1a5059fb097"
   },
   "outputs": [
    {
     "data": {
      "text/html": [
       "<div>\n",
       "<style scoped>\n",
       "    .dataframe tbody tr th:only-of-type {\n",
       "        vertical-align: middle;\n",
       "    }\n",
       "\n",
       "    .dataframe tbody tr th {\n",
       "        vertical-align: top;\n",
       "    }\n",
       "\n",
       "    .dataframe thead th {\n",
       "        text-align: right;\n",
       "    }\n",
       "</style>\n",
       "<table border=\"1\" class=\"dataframe\">\n",
       "  <thead>\n",
       "    <tr style=\"text-align: right;\">\n",
       "      <th></th>\n",
       "      <th>iso_code</th>\n",
       "      <th>Country</th>\n",
       "      <th>Date</th>\n",
       "      <th>total_covid_cases</th>\n",
       "      <th>new_covid_cases</th>\n",
       "      <th>total_covid_deaths</th>\n",
       "      <th>new_covid_deaths</th>\n",
       "      <th>covid_tests</th>\n",
       "      <th>new_covid_tests</th>\n",
       "    </tr>\n",
       "  </thead>\n",
       "  <tbody>\n",
       "    <tr>\n",
       "      <th>15877</th>\n",
       "      <td>SGP</td>\n",
       "      <td>Singapore</td>\n",
       "      <td>2019-12-31</td>\n",
       "      <td>0</td>\n",
       "      <td>0</td>\n",
       "      <td>0</td>\n",
       "      <td>0</td>\n",
       "      <td>NaN</td>\n",
       "      <td>NaN</td>\n",
       "    </tr>\n",
       "    <tr>\n",
       "      <th>15878</th>\n",
       "      <td>SGP</td>\n",
       "      <td>Singapore</td>\n",
       "      <td>2020-01-01</td>\n",
       "      <td>0</td>\n",
       "      <td>0</td>\n",
       "      <td>0</td>\n",
       "      <td>0</td>\n",
       "      <td>NaN</td>\n",
       "      <td>NaN</td>\n",
       "    </tr>\n",
       "    <tr>\n",
       "      <th>15879</th>\n",
       "      <td>SGP</td>\n",
       "      <td>Singapore</td>\n",
       "      <td>2020-01-02</td>\n",
       "      <td>0</td>\n",
       "      <td>0</td>\n",
       "      <td>0</td>\n",
       "      <td>0</td>\n",
       "      <td>NaN</td>\n",
       "      <td>NaN</td>\n",
       "    </tr>\n",
       "    <tr>\n",
       "      <th>15880</th>\n",
       "      <td>SGP</td>\n",
       "      <td>Singapore</td>\n",
       "      <td>2020-01-03</td>\n",
       "      <td>0</td>\n",
       "      <td>0</td>\n",
       "      <td>0</td>\n",
       "      <td>0</td>\n",
       "      <td>NaN</td>\n",
       "      <td>NaN</td>\n",
       "    </tr>\n",
       "    <tr>\n",
       "      <th>15881</th>\n",
       "      <td>SGP</td>\n",
       "      <td>Singapore</td>\n",
       "      <td>2020-01-04</td>\n",
       "      <td>0</td>\n",
       "      <td>0</td>\n",
       "      <td>0</td>\n",
       "      <td>0</td>\n",
       "      <td>NaN</td>\n",
       "      <td>NaN</td>\n",
       "    </tr>\n",
       "  </tbody>\n",
       "</table>\n",
       "</div>"
      ],
      "text/plain": [
       "      iso_code    Country        Date  total_covid_cases  new_covid_cases  \\\n",
       "15877      SGP  Singapore  2019-12-31                  0                0   \n",
       "15878      SGP  Singapore  2020-01-01                  0                0   \n",
       "15879      SGP  Singapore  2020-01-02                  0                0   \n",
       "15880      SGP  Singapore  2020-01-03                  0                0   \n",
       "15881      SGP  Singapore  2020-01-04                  0                0   \n",
       "\n",
       "       total_covid_deaths  new_covid_deaths  covid_tests  new_covid_tests  \n",
       "15877                   0                 0          NaN              NaN  \n",
       "15878                   0                 0          NaN              NaN  \n",
       "15879                   0                 0          NaN              NaN  \n",
       "15880                   0                 0          NaN              NaN  \n",
       "15881                   0                 0          NaN              NaN  "
      ]
     },
     "execution_count": 35,
     "metadata": {},
     "output_type": "execute_result"
    }
   ],
   "source": [
    "cntry.head()"
   ]
  },
  {
   "cell_type": "code",
   "execution_count": 36,
   "metadata": {
    "colab": {
     "base_uri": "https://localhost:8080/",
     "height": 357
    },
    "id": "OP6n0v_hi-ZO",
    "outputId": "c807ddec-1a68-461c-e65f-e3a49050593c"
   },
   "outputs": [
    {
     "data": {
      "text/html": [
       "<div>\n",
       "<style scoped>\n",
       "    .dataframe tbody tr th:only-of-type {\n",
       "        vertical-align: middle;\n",
       "    }\n",
       "\n",
       "    .dataframe tbody tr th {\n",
       "        vertical-align: top;\n",
       "    }\n",
       "\n",
       "    .dataframe thead th {\n",
       "        text-align: right;\n",
       "    }\n",
       "</style>\n",
       "<table border=\"1\" class=\"dataframe\">\n",
       "  <thead>\n",
       "    <tr style=\"text-align: right;\">\n",
       "      <th></th>\n",
       "      <th>iso_code</th>\n",
       "      <th>Country</th>\n",
       "      <th>Date</th>\n",
       "      <th>total_covid_cases</th>\n",
       "      <th>new_covid_cases</th>\n",
       "      <th>total_covid_deaths</th>\n",
       "      <th>new_covid_deaths</th>\n",
       "      <th>covid_tests</th>\n",
       "      <th>new_covid_tests</th>\n",
       "    </tr>\n",
       "  </thead>\n",
       "  <tbody>\n",
       "    <tr>\n",
       "      <th>15877</th>\n",
       "      <td>SGP</td>\n",
       "      <td>Singapore</td>\n",
       "      <td>2019-12-31</td>\n",
       "      <td>0</td>\n",
       "      <td>0</td>\n",
       "      <td>0</td>\n",
       "      <td>0</td>\n",
       "      <td>NaN</td>\n",
       "      <td>NaN</td>\n",
       "    </tr>\n",
       "    <tr>\n",
       "      <th>15878</th>\n",
       "      <td>SGP</td>\n",
       "      <td>Singapore</td>\n",
       "      <td>2020-01-01</td>\n",
       "      <td>0</td>\n",
       "      <td>0</td>\n",
       "      <td>0</td>\n",
       "      <td>0</td>\n",
       "      <td>NaN</td>\n",
       "      <td>NaN</td>\n",
       "    </tr>\n",
       "    <tr>\n",
       "      <th>15879</th>\n",
       "      <td>SGP</td>\n",
       "      <td>Singapore</td>\n",
       "      <td>2020-01-02</td>\n",
       "      <td>0</td>\n",
       "      <td>0</td>\n",
       "      <td>0</td>\n",
       "      <td>0</td>\n",
       "      <td>NaN</td>\n",
       "      <td>NaN</td>\n",
       "    </tr>\n",
       "    <tr>\n",
       "      <th>15880</th>\n",
       "      <td>SGP</td>\n",
       "      <td>Singapore</td>\n",
       "      <td>2020-01-03</td>\n",
       "      <td>0</td>\n",
       "      <td>0</td>\n",
       "      <td>0</td>\n",
       "      <td>0</td>\n",
       "      <td>NaN</td>\n",
       "      <td>NaN</td>\n",
       "    </tr>\n",
       "    <tr>\n",
       "      <th>15881</th>\n",
       "      <td>SGP</td>\n",
       "      <td>Singapore</td>\n",
       "      <td>2020-01-04</td>\n",
       "      <td>0</td>\n",
       "      <td>0</td>\n",
       "      <td>0</td>\n",
       "      <td>0</td>\n",
       "      <td>NaN</td>\n",
       "      <td>NaN</td>\n",
       "    </tr>\n",
       "  </tbody>\n",
       "</table>\n",
       "</div>"
      ],
      "text/plain": [
       "      iso_code    Country        Date  total_covid_cases  new_covid_cases  \\\n",
       "15877      SGP  Singapore  2019-12-31                  0                0   \n",
       "15878      SGP  Singapore  2020-01-01                  0                0   \n",
       "15879      SGP  Singapore  2020-01-02                  0                0   \n",
       "15880      SGP  Singapore  2020-01-03                  0                0   \n",
       "15881      SGP  Singapore  2020-01-04                  0                0   \n",
       "\n",
       "       total_covid_deaths  new_covid_deaths  covid_tests  new_covid_tests  \n",
       "15877                   0                 0          NaN              NaN  \n",
       "15878                   0                 0          NaN              NaN  \n",
       "15879                   0                 0          NaN              NaN  \n",
       "15880                   0                 0          NaN              NaN  \n",
       "15881                   0                 0          NaN              NaN  "
      ]
     },
     "execution_count": 36,
     "metadata": {},
     "output_type": "execute_result"
    }
   ],
   "source": [
    "Max_cases=cntry.sort_values(by='Date',ascending=True)\n",
    "Max_cases.head()"
   ]
  },
  {
   "cell_type": "code",
   "execution_count": 37,
   "metadata": {
    "colab": {
     "base_uri": "https://localhost:8080/",
     "height": 501
    },
    "id": "Q0ZJ6gbljCll",
    "outputId": "a4283bec-f0f9-4544-d9a2-2dd31f299fa1",
    "scrolled": true
   },
   "outputs": [
    {
     "data": {
      "image/png": "[encoded data removed]",
      "text/plain": [
       "<Figure size 1080x576 with 1 Axes>"
      ]
     },
     "metadata": {},
     "output_type": "display_data"
    }
   ],
   "source": [
    "### its graph between date and total_cases\n",
    "sns.set(rc={'figure.figsize':(15,8)})\n",
    "#plt.figure(figsize=(15,10))\n",
    "plt.scatter(x='Date',y='total_covid_cases',data=Max_cases,marker='+',color='green')\n",
    "plt.title(a)\n",
    "plt.ylabel('total_covid_cases')\n",
    "plt.show()"
   ]
  },
  {
   "cell_type": "code",
   "execution_count": 38,
   "metadata": {
    "colab": {
     "base_uri": "https://localhost:8080/",
     "height": 501
    },
    "id": "QDte-iLejN31",
    "outputId": "6ef337e2-7f0f-45fc-b655-89cfdc81c8b2"
   },
   "outputs": [
    {
     "data": {
      "image/png": "[encoded data removed]",
      "text/plain": [
       "<Figure size 1080x576 with 1 Axes>"
      ]
     },
     "metadata": {},
     "output_type": "display_data"
    }
   ],
   "source": [
    "### its graph between date and total_cases\n",
    "sns.set(rc={'figure.figsize':(15,8)})\n",
    "#plt.figure(figsize=(15,10))\n",
    "plt.scatter(x='Date',y='total_covid_deaths',data=Max_cases,marker='*',color='red')\n",
    "plt.ylabel('total_deaths')\n",
    "plt.title(a)\n",
    "plt.legend()\n",
    "plt.show()"
   ]
  },
  {
   "cell_type": "code",
   "execution_count": 39,
   "metadata": {
    "colab": {
     "base_uri": "https://localhost:8080/",
     "height": 601
    },
    "id": "ByvE57rYlRVP",
    "outputId": "66e1c1f1-a74d-42a1-b813-5494643e7bba"
   },
   "outputs": [
    {
     "data": {
      "text/html": [
       "<div>\n",
       "<style scoped>\n",
       "    .dataframe tbody tr th:only-of-type {\n",
       "        vertical-align: middle;\n",
       "    }\n",
       "\n",
       "    .dataframe tbody tr th {\n",
       "        vertical-align: top;\n",
       "    }\n",
       "\n",
       "    .dataframe thead th {\n",
       "        text-align: right;\n",
       "    }\n",
       "</style>\n",
       "<table border=\"1\" class=\"dataframe\">\n",
       "  <thead>\n",
       "    <tr style=\"text-align: right;\">\n",
       "      <th></th>\n",
       "      <th>iso_code</th>\n",
       "      <th>Country</th>\n",
       "      <th>Date</th>\n",
       "      <th>total_covid_cases</th>\n",
       "      <th>new_covid_cases</th>\n",
       "      <th>total_covid_deaths</th>\n",
       "      <th>new_covid_deaths</th>\n",
       "      <th>covid_tests</th>\n",
       "      <th>new_covid_tests</th>\n",
       "    </tr>\n",
       "  </thead>\n",
       "  <tbody>\n",
       "    <tr>\n",
       "      <th>16013</th>\n",
       "      <td>SGP</td>\n",
       "      <td>Singapore</td>\n",
       "      <td>2020-05-15</td>\n",
       "      <td>26098</td>\n",
       "      <td>752</td>\n",
       "      <td>21</td>\n",
       "      <td>0</td>\n",
       "      <td>NaN</td>\n",
       "      <td>NaN</td>\n",
       "    </tr>\n",
       "    <tr>\n",
       "      <th>16014</th>\n",
       "      <td>SGP</td>\n",
       "      <td>Singapore</td>\n",
       "      <td>2020-05-16</td>\n",
       "      <td>26891</td>\n",
       "      <td>793</td>\n",
       "      <td>21</td>\n",
       "      <td>0</td>\n",
       "      <td>NaN</td>\n",
       "      <td>NaN</td>\n",
       "    </tr>\n",
       "    <tr>\n",
       "      <th>16015</th>\n",
       "      <td>SGP</td>\n",
       "      <td>Singapore</td>\n",
       "      <td>2020-05-17</td>\n",
       "      <td>27356</td>\n",
       "      <td>465</td>\n",
       "      <td>22</td>\n",
       "      <td>1</td>\n",
       "      <td>NaN</td>\n",
       "      <td>NaN</td>\n",
       "    </tr>\n",
       "    <tr>\n",
       "      <th>16016</th>\n",
       "      <td>SGP</td>\n",
       "      <td>Singapore</td>\n",
       "      <td>2020-05-18</td>\n",
       "      <td>28038</td>\n",
       "      <td>682</td>\n",
       "      <td>22</td>\n",
       "      <td>0</td>\n",
       "      <td>191260.0</td>\n",
       "      <td>NaN</td>\n",
       "    </tr>\n",
       "    <tr>\n",
       "      <th>16017</th>\n",
       "      <td>SGP</td>\n",
       "      <td>Singapore</td>\n",
       "      <td>2020-05-19</td>\n",
       "      <td>28343</td>\n",
       "      <td>305</td>\n",
       "      <td>22</td>\n",
       "      <td>0</td>\n",
       "      <td>NaN</td>\n",
       "      <td>NaN</td>\n",
       "    </tr>\n",
       "    <tr>\n",
       "      <th>16018</th>\n",
       "      <td>SGP</td>\n",
       "      <td>Singapore</td>\n",
       "      <td>2020-05-20</td>\n",
       "      <td>28794</td>\n",
       "      <td>451</td>\n",
       "      <td>22</td>\n",
       "      <td>0</td>\n",
       "      <td>NaN</td>\n",
       "      <td>NaN</td>\n",
       "    </tr>\n",
       "    <tr>\n",
       "      <th>16019</th>\n",
       "      <td>SGP</td>\n",
       "      <td>Singapore</td>\n",
       "      <td>2020-05-21</td>\n",
       "      <td>29364</td>\n",
       "      <td>570</td>\n",
       "      <td>22</td>\n",
       "      <td>0</td>\n",
       "      <td>NaN</td>\n",
       "      <td>NaN</td>\n",
       "    </tr>\n",
       "    <tr>\n",
       "      <th>16020</th>\n",
       "      <td>SGP</td>\n",
       "      <td>Singapore</td>\n",
       "      <td>2020-05-22</td>\n",
       "      <td>29812</td>\n",
       "      <td>448</td>\n",
       "      <td>23</td>\n",
       "      <td>1</td>\n",
       "      <td>NaN</td>\n",
       "      <td>NaN</td>\n",
       "    </tr>\n",
       "    <tr>\n",
       "      <th>16021</th>\n",
       "      <td>SGP</td>\n",
       "      <td>Singapore</td>\n",
       "      <td>2020-05-23</td>\n",
       "      <td>30426</td>\n",
       "      <td>614</td>\n",
       "      <td>23</td>\n",
       "      <td>0</td>\n",
       "      <td>NaN</td>\n",
       "      <td>NaN</td>\n",
       "    </tr>\n",
       "    <tr>\n",
       "      <th>16022</th>\n",
       "      <td>SGP</td>\n",
       "      <td>Singapore</td>\n",
       "      <td>2020-05-24</td>\n",
       "      <td>31068</td>\n",
       "      <td>642</td>\n",
       "      <td>23</td>\n",
       "      <td>0</td>\n",
       "      <td>NaN</td>\n",
       "      <td>NaN</td>\n",
       "    </tr>\n",
       "  </tbody>\n",
       "</table>\n",
       "</div>"
      ],
      "text/plain": [
       "      iso_code    Country        Date  total_covid_cases  new_covid_cases  \\\n",
       "16013      SGP  Singapore  2020-05-15              26098              752   \n",
       "16014      SGP  Singapore  2020-05-16              26891              793   \n",
       "16015      SGP  Singapore  2020-05-17              27356              465   \n",
       "16016      SGP  Singapore  2020-05-18              28038              682   \n",
       "16017      SGP  Singapore  2020-05-19              28343              305   \n",
       "16018      SGP  Singapore  2020-05-20              28794              451   \n",
       "16019      SGP  Singapore  2020-05-21              29364              570   \n",
       "16020      SGP  Singapore  2020-05-22              29812              448   \n",
       "16021      SGP  Singapore  2020-05-23              30426              614   \n",
       "16022      SGP  Singapore  2020-05-24              31068              642   \n",
       "\n",
       "       total_covid_deaths  new_covid_deaths  covid_tests  new_covid_tests  \n",
       "16013                  21                 0          NaN              NaN  \n",
       "16014                  21                 0          NaN              NaN  \n",
       "16015                  22                 1          NaN              NaN  \n",
       "16016                  22                 0     191260.0              NaN  \n",
       "16017                  22                 0          NaN              NaN  \n",
       "16018                  22                 0          NaN              NaN  \n",
       "16019                  22                 0          NaN              NaN  \n",
       "16020                  23                 1          NaN              NaN  \n",
       "16021                  23                 0          NaN              NaN  \n",
       "16022                  23                 0          NaN              NaN  "
      ]
     },
     "execution_count": 39,
     "metadata": {},
     "output_type": "execute_result"
    }
   ],
   "source": [
    "cntry_last_10_day=cntry.tail(10)\n",
    "cntry_last_10_day"
   ]
  },
  {
   "cell_type": "code",
   "execution_count": 40,
   "metadata": {
    "colab": {
     "base_uri": "https://localhost:8080/",
     "height": 535
    },
    "id": "4dxcs3jUlYEF",
    "outputId": "ecf21da2-9bfc-4506-ee6b-ed76bca54d75"
   },
   "outputs": [
    {
     "name": "stderr",
     "output_type": "stream",
     "text": [
      "No handles with labels found to put in legend.\n"
     ]
    },
    {
     "data": {
      "image/png": "[encoded data removed]",
      "text/plain": [
       "<Figure size 1080x576 with 1 Axes>"
      ]
     },
     "metadata": {},
     "output_type": "display_data"
    }
   ],
   "source": [
    "### its graph between date and total_cases\n",
    "sns.set(rc={'figure.figsize':(15,8)})\n",
    "#plt.figure(figsize=(15,10))\n",
    "sns.lineplot(x='Date',y='total_covid_cases',data=cntry_last_10_day,marker='+',color='g')\n",
    "plt.ylabel('total_Cases')\n",
    "plt.title(a)\n",
    "plt.legend()\n",
    "plt.show()"
   ]
  },
  {
   "cell_type": "code",
   "execution_count": 41,
   "metadata": {
    "colab": {
     "base_uri": "https://localhost:8080/",
     "height": 535
    },
    "id": "nKmrD908lim9",
    "outputId": "c166f3db-7a48-4a95-9dca-06e1fc904e98"
   },
   "outputs": [
    {
     "name": "stderr",
     "output_type": "stream",
     "text": [
      "No handles with labels found to put in legend.\n"
     ]
    },
    {
     "data": {
      "image/png": "[encoded data removed]",
      "text/plain": [
       "<Figure size 1080x576 with 1 Axes>"
      ]
     },
     "metadata": {},
     "output_type": "display_data"
    }
   ],
   "source": [
    "### its graph between date and total_cases\n",
    "sns.set(rc={'figure.figsize':(15,8)})\n",
    "#plt.figure(figsize=(15,10))\n",
    "sns.lineplot(x='Date',y='total_covid_deaths',data=cntry_last_10_day,marker='*',color='r')\n",
    "plt.ylabel('total_deaths')\n",
    "plt.title(a)\n",
    "plt.legend()\n",
    "plt.show()"
   ]
  },
  {
   "cell_type": "code",
   "execution_count": 42,
   "metadata": {
    "colab": {
     "base_uri": "https://localhost:8080/",
     "height": 644
    },
    "id": "bp86fQfZlqg2",
    "outputId": "afc5e9dc-d2ce-4375-99f9-0de93d43f0ba"
   },
   "outputs": [
    {
     "name": "stderr",
     "output_type": "stream",
     "text": [
      "No handles with labels found to put in legend.\n"
     ]
    },
    {
     "data": {
      "image/png": "[encoded data removed]",
      "text/plain": [
       "<Figure size 1080x720 with 1 Axes>"
      ]
     },
     "metadata": {},
     "output_type": "display_data"
    }
   ],
   "source": [
    "##total no of cases conducted in india\n",
    "### its graph between date and total_cases\n",
    "sns.set(rc={'figure.figsize':(15,10)})\n",
    "#plt.figure(figsize=(15,10))\n",
    "sns.lineplot(x='Date',y='covid_tests',data=Max_cases,color='green')\n",
    "plt.ylabel('total_tests')\n",
    "plt.title(a)\n",
    "plt.legend()\n",
    "plt.show()\n"
   ]
  },
  {
   "cell_type": "code",
   "execution_count": 43,
   "metadata": {
    "colab": {
     "base_uri": "https://localhost:8080/"
    },
    "id": "bMjTrblQlxjl",
    "outputId": "11495b3c-68d4-42aa-90f5-9477690ad6ec"
   },
   "outputs": [
    {
     "data": {
      "text/plain": [
       "array(['2020-03-13', '2020-03-20', '2020-03-24', '2020-03-25',\n",
       "       '2020-03-26', '2020-03-27', '2020-03-28', '2020-03-29',\n",
       "       '2020-03-30', '2020-04-01', '2020-04-02', '2020-04-03',\n",
       "       '2020-04-04', '2020-04-05', '2020-04-06', '2020-04-07',\n",
       "       '2020-04-08', '2020-04-09', '2020-04-10', '2020-04-11',\n",
       "       '2020-04-12', '2020-04-13', '2020-04-14', '2020-04-15',\n",
       "       '2020-04-16', '2020-04-17', '2020-04-18', '2020-04-19',\n",
       "       '2020-04-20', '2020-04-21', '2020-04-22', '2020-04-23',\n",
       "       '2020-04-24', '2020-04-25', '2020-04-26', '2020-04-27',\n",
       "       '2020-04-28', '2020-04-29', '2020-04-30', '2020-05-01',\n",
       "       '2020-05-02', '2020-05-03', '2020-05-04', '2020-05-05',\n",
       "       '2020-05-06', '2020-05-07', '2020-05-08', '2020-05-09',\n",
       "       '2020-05-10', '2020-05-11', '2020-05-12', '2020-05-13',\n",
       "       '2020-05-14', '2020-05-15', '2020-05-16', '2020-05-17',\n",
       "       '2020-05-18', '2020-05-19', '2020-05-20', '2020-05-21',\n",
       "       '2020-05-22', '2020-05-23', '2020-05-24', '2019-12-31',\n",
       "       '2020-01-01', '2020-01-02', '2020-01-03', '2020-01-04',\n",
       "       '2020-01-05', '2020-01-06', '2020-01-07', '2020-01-08',\n",
       "       '2020-01-09', '2020-01-10', '2020-01-11', '2020-01-12',\n",
       "       '2020-01-13', '2020-01-14', '2020-01-15', '2020-01-16',\n",
       "       '2020-01-17', '2020-01-18', '2020-01-19', '2020-01-20',\n",
       "       '2020-01-21', '2020-01-22', '2020-01-23', '2020-01-24',\n",
       "       '2020-01-25', '2020-01-26', '2020-01-27', '2020-01-28',\n",
       "       '2020-01-29', '2020-01-30', '2020-01-31', '2020-02-01',\n",
       "       '2020-02-02', '2020-02-03', '2020-02-04', '2020-02-05',\n",
       "       '2020-02-06', '2020-02-07', '2020-02-08', '2020-02-09',\n",
       "       '2020-02-10', '2020-02-11', '2020-02-12', '2020-02-13',\n",
       "       '2020-02-14', '2020-02-15', '2020-02-16', '2020-02-17',\n",
       "       '2020-02-18', '2020-02-19', '2020-02-20', '2020-02-21',\n",
       "       '2020-02-22', '2020-02-23', '2020-02-24', '2020-02-25',\n",
       "       '2020-02-26', '2020-02-27', '2020-02-28', '2020-02-29',\n",
       "       '2020-03-01', '2020-03-02', '2020-03-08', '2020-03-11',\n",
       "       '2020-03-15', '2020-03-16', '2020-03-17', '2020-03-18',\n",
       "       '2020-03-19', '2020-03-21', '2020-03-22', '2020-03-23',\n",
       "       '2020-03-31', '2020-03-09', '2020-03-10', '2020-03-12',\n",
       "       '2020-03-14', '2020-03-03', '2020-03-04', '2020-03-06',\n",
       "       '2020-03-07', '2020-03-05'], dtype=object)"
      ]
     },
     "execution_count": 43,
     "metadata": {},
     "output_type": "execute_result"
    }
   ],
   "source": [
    "#dates\n",
    "df['Date'].unique()\n",
    "## after that we have to select recent date its 2020-05-24"
   ]
  },
  {
   "cell_type": "code",
   "execution_count": 44,
   "metadata": {
    "colab": {
     "base_uri": "https://localhost:8080/",
     "height": 661
    },
    "id": "g6P_c8YvmEC6",
    "outputId": "2e2d8724-f65e-44d3-da2e-60457189d3bd"
   },
   "outputs": [
    {
     "data": {
      "text/html": [
       "<div>\n",
       "<style scoped>\n",
       "    .dataframe tbody tr th:only-of-type {\n",
       "        vertical-align: middle;\n",
       "    }\n",
       "\n",
       "    .dataframe tbody tr th {\n",
       "        vertical-align: top;\n",
       "    }\n",
       "\n",
       "    .dataframe thead th {\n",
       "        text-align: right;\n",
       "    }\n",
       "</style>\n",
       "<table border=\"1\" class=\"dataframe\">\n",
       "  <thead>\n",
       "    <tr style=\"text-align: right;\">\n",
       "      <th></th>\n",
       "      <th>iso_code</th>\n",
       "      <th>Country</th>\n",
       "      <th>Date</th>\n",
       "      <th>total_covid_cases</th>\n",
       "      <th>new_covid_cases</th>\n",
       "      <th>total_covid_deaths</th>\n",
       "      <th>new_covid_deaths</th>\n",
       "      <th>covid_tests</th>\n",
       "      <th>new_covid_tests</th>\n",
       "    </tr>\n",
       "  </thead>\n",
       "  <tbody>\n",
       "    <tr>\n",
       "      <th>62</th>\n",
       "      <td>ABW</td>\n",
       "      <td>Aruba</td>\n",
       "      <td>2020-05-24</td>\n",
       "      <td>101</td>\n",
       "      <td>0</td>\n",
       "      <td>3</td>\n",
       "      <td>0</td>\n",
       "      <td>NaN</td>\n",
       "      <td>NaN</td>\n",
       "    </tr>\n",
       "    <tr>\n",
       "      <th>198</th>\n",
       "      <td>AFG</td>\n",
       "      <td>Afghanistan</td>\n",
       "      <td>2020-05-24</td>\n",
       "      <td>9998</td>\n",
       "      <td>782</td>\n",
       "      <td>216</td>\n",
       "      <td>11</td>\n",
       "      <td>NaN</td>\n",
       "      <td>NaN</td>\n",
       "    </tr>\n",
       "    <tr>\n",
       "      <th>262</th>\n",
       "      <td>AGO</td>\n",
       "      <td>Angola</td>\n",
       "      <td>2020-05-24</td>\n",
       "      <td>60</td>\n",
       "      <td>0</td>\n",
       "      <td>3</td>\n",
       "      <td>0</td>\n",
       "      <td>NaN</td>\n",
       "      <td>NaN</td>\n",
       "    </tr>\n",
       "    <tr>\n",
       "      <th>321</th>\n",
       "      <td>AIA</td>\n",
       "      <td>Anguilla</td>\n",
       "      <td>2020-05-24</td>\n",
       "      <td>3</td>\n",
       "      <td>0</td>\n",
       "      <td>0</td>\n",
       "      <td>0</td>\n",
       "      <td>NaN</td>\n",
       "      <td>NaN</td>\n",
       "    </tr>\n",
       "    <tr>\n",
       "      <th>398</th>\n",
       "      <td>ALB</td>\n",
       "      <td>Albania</td>\n",
       "      <td>2020-05-24</td>\n",
       "      <td>989</td>\n",
       "      <td>8</td>\n",
       "      <td>31</td>\n",
       "      <td>0</td>\n",
       "      <td>NaN</td>\n",
       "      <td>NaN</td>\n",
       "    </tr>\n",
       "    <tr>\n",
       "      <th>...</th>\n",
       "      <td>...</td>\n",
       "      <td>...</td>\n",
       "      <td>...</td>\n",
       "      <td>...</td>\n",
       "      <td>...</td>\n",
       "      <td>...</td>\n",
       "      <td>...</td>\n",
       "      <td>...</td>\n",
       "      <td>...</td>\n",
       "    </tr>\n",
       "    <tr>\n",
       "      <th>19045</th>\n",
       "      <td>YEM</td>\n",
       "      <td>Yemen</td>\n",
       "      <td>2020-05-24</td>\n",
       "      <td>212</td>\n",
       "      <td>7</td>\n",
       "      <td>39</td>\n",
       "      <td>6</td>\n",
       "      <td>NaN</td>\n",
       "      <td>NaN</td>\n",
       "    </tr>\n",
       "    <tr>\n",
       "      <th>19153</th>\n",
       "      <td>ZAF</td>\n",
       "      <td>South Africa</td>\n",
       "      <td>2020-05-24</td>\n",
       "      <td>21343</td>\n",
       "      <td>1218</td>\n",
       "      <td>407</td>\n",
       "      <td>10</td>\n",
       "      <td>NaN</td>\n",
       "      <td>NaN</td>\n",
       "    </tr>\n",
       "    <tr>\n",
       "      <th>19220</th>\n",
       "      <td>ZMB</td>\n",
       "      <td>Zambia</td>\n",
       "      <td>2020-05-24</td>\n",
       "      <td>920</td>\n",
       "      <td>0</td>\n",
       "      <td>7</td>\n",
       "      <td>0</td>\n",
       "      <td>NaN</td>\n",
       "      <td>NaN</td>\n",
       "    </tr>\n",
       "    <tr>\n",
       "      <th>19285</th>\n",
       "      <td>ZWE</td>\n",
       "      <td>Zimbabwe</td>\n",
       "      <td>2020-05-24</td>\n",
       "      <td>56</td>\n",
       "      <td>0</td>\n",
       "      <td>4</td>\n",
       "      <td>0</td>\n",
       "      <td>NaN</td>\n",
       "      <td>NaN</td>\n",
       "    </tr>\n",
       "    <tr>\n",
       "      <th>19431</th>\n",
       "      <td>OWID_WRL</td>\n",
       "      <td>World</td>\n",
       "      <td>2020-05-24</td>\n",
       "      <td>5273572</td>\n",
       "      <td>97636</td>\n",
       "      <td>341722</td>\n",
       "      <td>3633</td>\n",
       "      <td>NaN</td>\n",
       "      <td>NaN</td>\n",
       "    </tr>\n",
       "  </tbody>\n",
       "</table>\n",
       "<p>207 rows × 9 columns</p>\n",
       "</div>"
      ],
      "text/plain": [
       "       iso_code       Country        Date  total_covid_cases  new_covid_cases  \\\n",
       "62          ABW         Aruba  2020-05-24                101                0   \n",
       "198         AFG   Afghanistan  2020-05-24               9998              782   \n",
       "262         AGO        Angola  2020-05-24                 60                0   \n",
       "321         AIA      Anguilla  2020-05-24                  3                0   \n",
       "398         ALB       Albania  2020-05-24                989                8   \n",
       "...         ...           ...         ...                ...              ...   \n",
       "19045       YEM         Yemen  2020-05-24                212                7   \n",
       "19153       ZAF  South Africa  2020-05-24              21343             1218   \n",
       "19220       ZMB        Zambia  2020-05-24                920                0   \n",
       "19285       ZWE      Zimbabwe  2020-05-24                 56                0   \n",
       "19431  OWID_WRL         World  2020-05-24            5273572            97636   \n",
       "\n",
       "       total_covid_deaths  new_covid_deaths  covid_tests  new_covid_tests  \n",
       "62                      3                 0          NaN              NaN  \n",
       "198                   216                11          NaN              NaN  \n",
       "262                     3                 0          NaN              NaN  \n",
       "321                     0                 0          NaN              NaN  \n",
       "398                    31                 0          NaN              NaN  \n",
       "...                   ...               ...          ...              ...  \n",
       "19045                  39                 6          NaN              NaN  \n",
       "19153                 407                10          NaN              NaN  \n",
       "19220                   7                 0          NaN              NaN  \n",
       "19285                   4                 0          NaN              NaN  \n",
       "19431              341722              3633          NaN              NaN  \n",
       "\n",
       "[207 rows x 9 columns]"
      ]
     },
     "execution_count": 44,
     "metadata": {},
     "output_type": "execute_result"
    }
   ],
   "source": [
    "recent_case=df[df['Date']=='2020-05-24']\n",
    "recent_case"
   ]
  },
  {
   "cell_type": "code",
   "execution_count": 45,
   "metadata": {
    "id": "wzJeweIImHd1"
   },
   "outputs": [],
   "source": [
    "top_10_cntry_case=recent_case.sort_values(by='total_covid_cases',ascending=False)\n",
    "gp_repr=top_10_cntry_case[1:10]\n"
   ]
  },
  {
   "cell_type": "code",
   "execution_count": 46,
   "metadata": {
    "colab": {
     "base_uri": "https://localhost:8080/",
     "height": 639
    },
    "id": "4hTSc0BHmbk9",
    "outputId": "31789ab1-57ce-4550-b9a1-b31a07ad0355"
   },
   "outputs": [
    {
     "data": {
      "text/plain": [
       "<AxesSubplot:xlabel='Country', ylabel='total_covid_cases'>"
      ]
     },
     "execution_count": 46,
     "metadata": {},
     "output_type": "execute_result"
    },
    {
     "data": {
      "image/png": "[encoded data removed]",
      "text/plain": [
       "<Figure size 1080x720 with 1 Axes>"
      ]
     },
     "metadata": {},
     "output_type": "display_data"
    }
   ],
   "source": [
    "sns.barplot(x='Country',y='total_covid_cases',data=gp_repr,hue='Country')"
   ]
  },
  {
   "cell_type": "code",
   "execution_count": 47,
   "metadata": {
    "id": "h7cgaqU8mj53"
   },
   "outputs": [],
   "source": [
    "top_10_death_cases=recent_case.sort_values(by='total_covid_deaths',ascending=False)\n",
    "gp_death=top_10_death_cases[1:10]\n",
    "pi=gp_death['total_covid_deaths']\n",
    "loc=gp_death['Country']"
   ]
  },
  {
   "cell_type": "code",
   "execution_count": 48,
   "metadata": {
    "colab": {
     "base_uri": "https://localhost:8080/",
     "height": 575
    },
    "id": "VQ5qAOFnmvz1",
    "outputId": "76f6354c-dc9e-4989-f995-54311fd47fdf"
   },
   "outputs": [
    {
     "data": {
      "image/png": "[encoded data removed]",
      "text/plain": [
       "<Figure size 1080x720 with 1 Axes>"
      ]
     },
     "metadata": {},
     "output_type": "display_data"
    }
   ],
   "source": [
    "#sns.barplot(x='location',y='total_deaths',data=gp_death,hue='location')\n",
    "plt.pie(pi,labels=loc,autopct='%1.1f%%')\n",
    "plt.legend()\n",
    "plt.show()"
   ]
  },
  {
   "cell_type": "code",
   "execution_count": 49,
   "metadata": {
    "id": "3AYwFjZLmxvV"
   },
   "outputs": [],
   "source": [
    "top_10_tests=recent_case.sort_values(by='covid_tests',ascending=False)\n",
    "gp_tests=top_10_tests[0:10]"
   ]
  },
  {
   "cell_type": "code",
   "execution_count": 50,
   "metadata": {
    "colab": {
     "base_uri": "https://localhost:8080/",
     "height": 622
    },
    "id": "or8GASHVm6-F",
    "outputId": "fa0f5318-d78a-4ccb-f53d-259440dd9bf0"
   },
   "outputs": [
    {
     "data": {
      "image/png": "[encoded data removed]",
      "text/plain": [
       "<Figure size 1080x720 with 1 Axes>"
      ]
     },
     "metadata": {},
     "output_type": "display_data"
    }
   ],
   "source": [
    "sns.barplot(x='Country',y='covid_tests',data=gp_tests,hue='Country')\n",
    "plt.show()"
   ]
  },
  {
   "cell_type": "code",
   "execution_count": 51,
   "metadata": {
    "colab": {
     "base_uri": "https://localhost:8080/",
     "height": 661
    },
    "id": "ldIk6Sr8nBqG",
    "outputId": "182fc143-09fa-4eaa-ad0e-44ac4453cfc7"
   },
   "outputs": [
    {
     "data": {
      "text/html": [
       "<div>\n",
       "<style scoped>\n",
       "    .dataframe tbody tr th:only-of-type {\n",
       "        vertical-align: middle;\n",
       "    }\n",
       "\n",
       "    .dataframe tbody tr th {\n",
       "        vertical-align: top;\n",
       "    }\n",
       "\n",
       "    .dataframe thead th {\n",
       "        text-align: right;\n",
       "    }\n",
       "</style>\n",
       "<table border=\"1\" class=\"dataframe\">\n",
       "  <thead>\n",
       "    <tr style=\"text-align: right;\">\n",
       "      <th></th>\n",
       "      <th>iso_code</th>\n",
       "      <th>Country</th>\n",
       "      <th>Date</th>\n",
       "      <th>total_covid_cases</th>\n",
       "      <th>new_covid_cases</th>\n",
       "      <th>total_covid_deaths</th>\n",
       "      <th>new_covid_deaths</th>\n",
       "      <th>covid_tests</th>\n",
       "      <th>new_covid_tests</th>\n",
       "    </tr>\n",
       "  </thead>\n",
       "  <tbody>\n",
       "    <tr>\n",
       "      <th>15877</th>\n",
       "      <td>SGP</td>\n",
       "      <td>Singapore</td>\n",
       "      <td>2019-12-31</td>\n",
       "      <td>0</td>\n",
       "      <td>0</td>\n",
       "      <td>0</td>\n",
       "      <td>0</td>\n",
       "      <td>NaN</td>\n",
       "      <td>NaN</td>\n",
       "    </tr>\n",
       "    <tr>\n",
       "      <th>15878</th>\n",
       "      <td>SGP</td>\n",
       "      <td>Singapore</td>\n",
       "      <td>2020-01-01</td>\n",
       "      <td>0</td>\n",
       "      <td>0</td>\n",
       "      <td>0</td>\n",
       "      <td>0</td>\n",
       "      <td>NaN</td>\n",
       "      <td>NaN</td>\n",
       "    </tr>\n",
       "    <tr>\n",
       "      <th>15879</th>\n",
       "      <td>SGP</td>\n",
       "      <td>Singapore</td>\n",
       "      <td>2020-01-02</td>\n",
       "      <td>0</td>\n",
       "      <td>0</td>\n",
       "      <td>0</td>\n",
       "      <td>0</td>\n",
       "      <td>NaN</td>\n",
       "      <td>NaN</td>\n",
       "    </tr>\n",
       "    <tr>\n",
       "      <th>15880</th>\n",
       "      <td>SGP</td>\n",
       "      <td>Singapore</td>\n",
       "      <td>2020-01-03</td>\n",
       "      <td>0</td>\n",
       "      <td>0</td>\n",
       "      <td>0</td>\n",
       "      <td>0</td>\n",
       "      <td>NaN</td>\n",
       "      <td>NaN</td>\n",
       "    </tr>\n",
       "    <tr>\n",
       "      <th>15881</th>\n",
       "      <td>SGP</td>\n",
       "      <td>Singapore</td>\n",
       "      <td>2020-01-04</td>\n",
       "      <td>0</td>\n",
       "      <td>0</td>\n",
       "      <td>0</td>\n",
       "      <td>0</td>\n",
       "      <td>NaN</td>\n",
       "      <td>NaN</td>\n",
       "    </tr>\n",
       "    <tr>\n",
       "      <th>...</th>\n",
       "      <td>...</td>\n",
       "      <td>...</td>\n",
       "      <td>...</td>\n",
       "      <td>...</td>\n",
       "      <td>...</td>\n",
       "      <td>...</td>\n",
       "      <td>...</td>\n",
       "      <td>...</td>\n",
       "      <td>...</td>\n",
       "    </tr>\n",
       "    <tr>\n",
       "      <th>16018</th>\n",
       "      <td>SGP</td>\n",
       "      <td>Singapore</td>\n",
       "      <td>2020-05-20</td>\n",
       "      <td>28794</td>\n",
       "      <td>451</td>\n",
       "      <td>22</td>\n",
       "      <td>0</td>\n",
       "      <td>NaN</td>\n",
       "      <td>NaN</td>\n",
       "    </tr>\n",
       "    <tr>\n",
       "      <th>16019</th>\n",
       "      <td>SGP</td>\n",
       "      <td>Singapore</td>\n",
       "      <td>2020-05-21</td>\n",
       "      <td>29364</td>\n",
       "      <td>570</td>\n",
       "      <td>22</td>\n",
       "      <td>0</td>\n",
       "      <td>NaN</td>\n",
       "      <td>NaN</td>\n",
       "    </tr>\n",
       "    <tr>\n",
       "      <th>16020</th>\n",
       "      <td>SGP</td>\n",
       "      <td>Singapore</td>\n",
       "      <td>2020-05-22</td>\n",
       "      <td>29812</td>\n",
       "      <td>448</td>\n",
       "      <td>23</td>\n",
       "      <td>1</td>\n",
       "      <td>NaN</td>\n",
       "      <td>NaN</td>\n",
       "    </tr>\n",
       "    <tr>\n",
       "      <th>16021</th>\n",
       "      <td>SGP</td>\n",
       "      <td>Singapore</td>\n",
       "      <td>2020-05-23</td>\n",
       "      <td>30426</td>\n",
       "      <td>614</td>\n",
       "      <td>23</td>\n",
       "      <td>0</td>\n",
       "      <td>NaN</td>\n",
       "      <td>NaN</td>\n",
       "    </tr>\n",
       "    <tr>\n",
       "      <th>16022</th>\n",
       "      <td>SGP</td>\n",
       "      <td>Singapore</td>\n",
       "      <td>2020-05-24</td>\n",
       "      <td>31068</td>\n",
       "      <td>642</td>\n",
       "      <td>23</td>\n",
       "      <td>0</td>\n",
       "      <td>NaN</td>\n",
       "      <td>NaN</td>\n",
       "    </tr>\n",
       "  </tbody>\n",
       "</table>\n",
       "<p>146 rows × 9 columns</p>\n",
       "</div>"
      ],
      "text/plain": [
       "      iso_code    Country        Date  total_covid_cases  new_covid_cases  \\\n",
       "15877      SGP  Singapore  2019-12-31                  0                0   \n",
       "15878      SGP  Singapore  2020-01-01                  0                0   \n",
       "15879      SGP  Singapore  2020-01-02                  0                0   \n",
       "15880      SGP  Singapore  2020-01-03                  0                0   \n",
       "15881      SGP  Singapore  2020-01-04                  0                0   \n",
       "...        ...        ...         ...                ...              ...   \n",
       "16018      SGP  Singapore  2020-05-20              28794              451   \n",
       "16019      SGP  Singapore  2020-05-21              29364              570   \n",
       "16020      SGP  Singapore  2020-05-22              29812              448   \n",
       "16021      SGP  Singapore  2020-05-23              30426              614   \n",
       "16022      SGP  Singapore  2020-05-24              31068              642   \n",
       "\n",
       "       total_covid_deaths  new_covid_deaths  covid_tests  new_covid_tests  \n",
       "15877                   0                 0          NaN              NaN  \n",
       "15878                   0                 0          NaN              NaN  \n",
       "15879                   0                 0          NaN              NaN  \n",
       "15880                   0                 0          NaN              NaN  \n",
       "15881                   0                 0          NaN              NaN  \n",
       "...                   ...               ...          ...              ...  \n",
       "16018                  22                 0          NaN              NaN  \n",
       "16019                  22                 0          NaN              NaN  \n",
       "16020                  23                 1          NaN              NaN  \n",
       "16021                  23                 0          NaN              NaN  \n",
       "16022                  23                 0          NaN              NaN  \n",
       "\n",
       "[146 rows x 9 columns]"
      ]
     },
     "execution_count": 51,
     "metadata": {},
     "output_type": "execute_result"
    }
   ],
   "source": [
    "cntry"
   ]
  },
  {
   "cell_type": "code",
   "execution_count": 52,
   "metadata": {
    "colab": {
     "base_uri": "https://localhost:8080/",
     "height": 696
    },
    "id": "TvxMwKhOnFjQ",
    "outputId": "e0ffeae1-9e91-4e74-98b8-4aeed9983190"
   },
   "outputs": [
    {
     "name": "stderr",
     "output_type": "stream",
     "text": [
      "C:\\Users\\HP\\AppData\\Local\\Temp/ipykernel_956/2304284780.py:2: SettingWithCopyWarning: \n",
      "A value is trying to be set on a copy of a slice from a DataFrame.\n",
      "Try using .loc[row_indexer,col_indexer] = value instead\n",
      "\n",
      "See the caveats in the documentation: https://pandas.pydata.org/pandas-docs/stable/user_guide/indexing.html#returning-a-view-versus-a-copy\n",
      "  cntry['Date']=pd.to_datetime(cntry['Date'],dayfirst=True)\n",
      "C:\\Users\\HP\\AppData\\Local\\Temp/ipykernel_956/2304284780.py:3: SettingWithCopyWarning: \n",
      "A value is trying to be set on a copy of a slice from a DataFrame.\n",
      "Try using .loc[row_indexer,col_indexer] = value instead\n",
      "\n",
      "See the caveats in the documentation: https://pandas.pydata.org/pandas-docs/stable/user_guide/indexing.html#returning-a-view-versus-a-copy\n",
      "  cntry['Date']=cntry['Date'].map(dt.datetime.toordinal)\n"
     ]
    },
    {
     "data": {
      "text/html": [
       "<div>\n",
       "<style scoped>\n",
       "    .dataframe tbody tr th:only-of-type {\n",
       "        vertical-align: middle;\n",
       "    }\n",
       "\n",
       "    .dataframe tbody tr th {\n",
       "        vertical-align: top;\n",
       "    }\n",
       "\n",
       "    .dataframe thead th {\n",
       "        text-align: right;\n",
       "    }\n",
       "</style>\n",
       "<table border=\"1\" class=\"dataframe\">\n",
       "  <thead>\n",
       "    <tr style=\"text-align: right;\">\n",
       "      <th></th>\n",
       "      <th>iso_code</th>\n",
       "      <th>Country</th>\n",
       "      <th>Date</th>\n",
       "      <th>total_covid_cases</th>\n",
       "      <th>new_covid_cases</th>\n",
       "      <th>total_covid_deaths</th>\n",
       "      <th>new_covid_deaths</th>\n",
       "      <th>covid_tests</th>\n",
       "      <th>new_covid_tests</th>\n",
       "    </tr>\n",
       "  </thead>\n",
       "  <tbody>\n",
       "    <tr>\n",
       "      <th>15877</th>\n",
       "      <td>SGP</td>\n",
       "      <td>Singapore</td>\n",
       "      <td>737424</td>\n",
       "      <td>0</td>\n",
       "      <td>0</td>\n",
       "      <td>0</td>\n",
       "      <td>0</td>\n",
       "      <td>NaN</td>\n",
       "      <td>NaN</td>\n",
       "    </tr>\n",
       "    <tr>\n",
       "      <th>15878</th>\n",
       "      <td>SGP</td>\n",
       "      <td>Singapore</td>\n",
       "      <td>737425</td>\n",
       "      <td>0</td>\n",
       "      <td>0</td>\n",
       "      <td>0</td>\n",
       "      <td>0</td>\n",
       "      <td>NaN</td>\n",
       "      <td>NaN</td>\n",
       "    </tr>\n",
       "    <tr>\n",
       "      <th>15879</th>\n",
       "      <td>SGP</td>\n",
       "      <td>Singapore</td>\n",
       "      <td>737426</td>\n",
       "      <td>0</td>\n",
       "      <td>0</td>\n",
       "      <td>0</td>\n",
       "      <td>0</td>\n",
       "      <td>NaN</td>\n",
       "      <td>NaN</td>\n",
       "    </tr>\n",
       "    <tr>\n",
       "      <th>15880</th>\n",
       "      <td>SGP</td>\n",
       "      <td>Singapore</td>\n",
       "      <td>737427</td>\n",
       "      <td>0</td>\n",
       "      <td>0</td>\n",
       "      <td>0</td>\n",
       "      <td>0</td>\n",
       "      <td>NaN</td>\n",
       "      <td>NaN</td>\n",
       "    </tr>\n",
       "    <tr>\n",
       "      <th>15881</th>\n",
       "      <td>SGP</td>\n",
       "      <td>Singapore</td>\n",
       "      <td>737428</td>\n",
       "      <td>0</td>\n",
       "      <td>0</td>\n",
       "      <td>0</td>\n",
       "      <td>0</td>\n",
       "      <td>NaN</td>\n",
       "      <td>NaN</td>\n",
       "    </tr>\n",
       "    <tr>\n",
       "      <th>...</th>\n",
       "      <td>...</td>\n",
       "      <td>...</td>\n",
       "      <td>...</td>\n",
       "      <td>...</td>\n",
       "      <td>...</td>\n",
       "      <td>...</td>\n",
       "      <td>...</td>\n",
       "      <td>...</td>\n",
       "      <td>...</td>\n",
       "    </tr>\n",
       "    <tr>\n",
       "      <th>16018</th>\n",
       "      <td>SGP</td>\n",
       "      <td>Singapore</td>\n",
       "      <td>737565</td>\n",
       "      <td>28794</td>\n",
       "      <td>451</td>\n",
       "      <td>22</td>\n",
       "      <td>0</td>\n",
       "      <td>NaN</td>\n",
       "      <td>NaN</td>\n",
       "    </tr>\n",
       "    <tr>\n",
       "      <th>16019</th>\n",
       "      <td>SGP</td>\n",
       "      <td>Singapore</td>\n",
       "      <td>737566</td>\n",
       "      <td>29364</td>\n",
       "      <td>570</td>\n",
       "      <td>22</td>\n",
       "      <td>0</td>\n",
       "      <td>NaN</td>\n",
       "      <td>NaN</td>\n",
       "    </tr>\n",
       "    <tr>\n",
       "      <th>16020</th>\n",
       "      <td>SGP</td>\n",
       "      <td>Singapore</td>\n",
       "      <td>737567</td>\n",
       "      <td>29812</td>\n",
       "      <td>448</td>\n",
       "      <td>23</td>\n",
       "      <td>1</td>\n",
       "      <td>NaN</td>\n",
       "      <td>NaN</td>\n",
       "    </tr>\n",
       "    <tr>\n",
       "      <th>16021</th>\n",
       "      <td>SGP</td>\n",
       "      <td>Singapore</td>\n",
       "      <td>737568</td>\n",
       "      <td>30426</td>\n",
       "      <td>614</td>\n",
       "      <td>23</td>\n",
       "      <td>0</td>\n",
       "      <td>NaN</td>\n",
       "      <td>NaN</td>\n",
       "    </tr>\n",
       "    <tr>\n",
       "      <th>16022</th>\n",
       "      <td>SGP</td>\n",
       "      <td>Singapore</td>\n",
       "      <td>737569</td>\n",
       "      <td>31068</td>\n",
       "      <td>642</td>\n",
       "      <td>23</td>\n",
       "      <td>0</td>\n",
       "      <td>NaN</td>\n",
       "      <td>NaN</td>\n",
       "    </tr>\n",
       "  </tbody>\n",
       "</table>\n",
       "<p>146 rows × 9 columns</p>\n",
       "</div>"
      ],
      "text/plain": [
       "      iso_code    Country    Date  total_covid_cases  new_covid_cases  \\\n",
       "15877      SGP  Singapore  737424                  0                0   \n",
       "15878      SGP  Singapore  737425                  0                0   \n",
       "15879      SGP  Singapore  737426                  0                0   \n",
       "15880      SGP  Singapore  737427                  0                0   \n",
       "15881      SGP  Singapore  737428                  0                0   \n",
       "...        ...        ...     ...                ...              ...   \n",
       "16018      SGP  Singapore  737565              28794              451   \n",
       "16019      SGP  Singapore  737566              29364              570   \n",
       "16020      SGP  Singapore  737567              29812              448   \n",
       "16021      SGP  Singapore  737568              30426              614   \n",
       "16022      SGP  Singapore  737569              31068              642   \n",
       "\n",
       "       total_covid_deaths  new_covid_deaths  covid_tests  new_covid_tests  \n",
       "15877                   0                 0          NaN              NaN  \n",
       "15878                   0                 0          NaN              NaN  \n",
       "15879                   0                 0          NaN              NaN  \n",
       "15880                   0                 0          NaN              NaN  \n",
       "15881                   0                 0          NaN              NaN  \n",
       "...                   ...               ...          ...              ...  \n",
       "16018                  22                 0          NaN              NaN  \n",
       "16019                  22                 0          NaN              NaN  \n",
       "16020                  23                 1          NaN              NaN  \n",
       "16021                  23                 0          NaN              NaN  \n",
       "16022                  23                 0          NaN              NaN  \n",
       "\n",
       "[146 rows x 9 columns]"
      ]
     },
     "execution_count": 52,
     "metadata": {},
     "output_type": "execute_result"
    }
   ],
   "source": [
    "import datetime as dt\n",
    "cntry['Date']=pd.to_datetime(cntry['Date'],dayfirst=True)\n",
    "cntry['Date']=cntry['Date'].map(dt.datetime.toordinal)\n",
    "cntry"
   ]
  },
  {
   "cell_type": "code",
   "execution_count": 53,
   "metadata": {
    "colab": {
     "base_uri": "https://localhost:8080/"
    },
    "id": "_wxDG3SgnPPA",
    "outputId": "7db2a4fc-efdc-4316-f53d-ae7adeb69bee"
   },
   "outputs": [],
   "source": [
    "x=np.array(cntry['Date'])\n",
    "y=np.array(cntry['total_covid_cases'])\n"
   ]
  },
  {
   "cell_type": "code",
   "execution_count": 54,
   "metadata": {
    "id": "Qqh_68ChnWkt"
   },
   "outputs": [],
   "source": [
    "##now we split the data into training and testing Data at test size 30% of training Data\n",
    "from sklearn.model_selection import train_test_split\n",
    "x_train,x_test,y_train,y_test=train_test_split(x,y,test_size=0.30,random_state=0)"
   ]
  },
  {
   "cell_type": "code",
   "execution_count": 55,
   "metadata": {
    "id": "MbPEIc9unZDP"
   },
   "outputs": [],
   "source": [
    "from sklearn.linear_model import LinearRegression,Lasso,Ridge\n",
    "from sklearn.ensemble import RandomForestRegressor\n",
    "from sklearn.tree import DecisionTreeRegressor\n",
    "from sklearn.svm import SVR\n",
    "\n"
   ]
  },
  {
   "cell_type": "code",
   "execution_count": 56,
   "metadata": {
    "colab": {
     "base_uri": "https://localhost:8080/"
    },
    "id": "9yr0wAazna_2",
    "outputId": "53d55a9e-d235-456f-9746-7bee4f348fcf"
   },
   "outputs": [
    {
     "name": "stdout",
     "output_type": "stream",
     "text": [
      "0.5678362619400228\n",
      "0.5678363700962341\n",
      "0.5678364393878783\n"
     ]
    },
    {
     "name": "stderr",
     "output_type": "stream",
     "text": [
      "C:\\Users\\HP\\AppData\\Local\\Temp/ipykernel_956/3216985359.py:3: DataConversionWarning: A column-vector y was passed when a 1d array was expected. Please change the shape of y to (n_samples,), for example using ravel().\n",
      "  md.fit(x_train.reshape(-1,1),y_train.reshape(-1,1))\n"
     ]
    },
    {
     "name": "stdout",
     "output_type": "stream",
     "text": [
      "0.9992909634815214\n",
      "0.9976395995341023\n",
      "-0.21118601018974026\n"
     ]
    },
    {
     "name": "stderr",
     "output_type": "stream",
     "text": [
      "C:\\Users\\HP\\anaconda3\\lib\\site-packages\\sklearn\\utils\\validation.py:63: DataConversionWarning: A column-vector y was passed when a 1d array was expected. Please change the shape of y to (n_samples, ), for example using ravel().\n",
      "  return f(*args, **kwargs)\n"
     ]
    }
   ],
   "source": [
    "for i,j in enumerate([LinearRegression,Lasso,Ridge,RandomForestRegressor,DecisionTreeRegressor,SVR]):\n",
    "  md=j()\n",
    "  md.fit(x_train.reshape(-1,1),y_train.reshape(-1,1))\n",
    "  y_pred=md.predict(x_test.reshape(-1,1))\n",
    "  print(md.score(x_test.reshape(-1,1),y_test.reshape(-1,1)))\n",
    "  "
   ]
  },
  {
   "cell_type": "code",
   "execution_count": 57,
   "metadata": {
    "colab": {
     "base_uri": "https://localhost:8080/"
    },
    "id": "Qc29VA5OnfUG",
    "outputId": "8435e3db-50f2-47cd-c3e4-88736e703b7a"
   },
   "outputs": [
    {
     "data": {
      "text/plain": [
       "RandomForestRegressor()"
      ]
     },
     "execution_count": 57,
     "metadata": {},
     "output_type": "execute_result"
    }
   ],
   "source": [
    "## after that result we have to select best accuracy algorithm\n",
    "# we have 2 algorithm with best model score\n",
    "#1--> RandomForestRegressor\n",
    "#2--> DecisionTreeRegressor\n",
    "## now we have to select randomforestregression\n",
    "rf_r=RandomForestRegressor()\n",
    "rf_r.fit(cntry[['Date']],cntry['total_covid_cases'])\n"
   ]
  },
  {
   "cell_type": "code",
   "execution_count": 58,
   "metadata": {
    "colab": {
     "base_uri": "https://localhost:8080/"
    },
    "id": "z0N83LWFCSQl",
    "outputId": "bd0f194f-edd8-4130-c994-d435aa13cfce"
   },
   "outputs": [
    {
     "data": {
      "text/plain": [
       "0.9998851512174378"
      ]
     },
     "execution_count": 58,
     "metadata": {},
     "output_type": "execute_result"
    }
   ],
   "source": [
    "rf_r.score(cntry[['Date']],cntry['total_covid_cases'])"
   ]
  },
  {
   "cell_type": "code",
   "execution_count": null,
   "metadata": {
    "colab": {
     "base_uri": "https://localhost:8080/",
     "height": 107
    },
    "id": "Lrz1qYyjniSX",
    "outputId": "eca85ed7-265d-49ad-8e29-422556a2759f"
   },
   "outputs": [],
   "source": [
    "m=int(input('enter the date in toordinal form :-'))\n",
    "f\"Upcoming cases of date is {rf_r.predict([[m]])}\""
   ]
  },
  {
   "cell_type": "code",
   "execution_count": null,
   "metadata": {
    "id": "QCfSWmFbF7cW"
   },
   "outputs": [],
   "source": [
    "import joblib"
   ]
  },
  {
   "cell_type": "code",
   "execution_count": null,
   "metadata": {
    "colab": {
     "base_uri": "https://localhost:8080/"
    },
    "id": "2Z7tXTP2GrO3",
    "outputId": "cbf86599-bd4e-4131-f27b-ce211e5b0d18"
   },
   "outputs": [],
   "source": [
    "joblib.dump(rf_r,'random_forest.pkl')"
   ]
  },
  {
   "cell_type": "code",
   "execution_count": null,
   "metadata": {
    "id": "jAH_I1pdUkiC"
   },
   "outputs": [],
   "source": [
    "x=joblib.load('random_forest.pkl')"
   ]
  },
  {
   "cell_type": "code",
   "execution_count": null,
   "metadata": {
    "colab": {
     "base_uri": "https://localhost:8080/"
    },
    "id": "LttZg2hiUtWq",
    "outputId": "7c234f41-4b37-47a8-bb28-a41a29e6ee1c"
   },
   "outputs": [],
   "source": []
  },
  {
   "cell_type": "code",
   "execution_count": null,
   "metadata": {
    "id": "e3jXIIGQf3NK"
   },
   "outputs": [],
   "source": []
  }
 ],
 "metadata": {
  "colab": {
   "name": "edited_covid_model.ipynb",
   "provenance": []
  },
  "kernelspec": {
   "display_name": "Python 3 (ipykernel)",
   "language": "python",
   "name": "python3"
  },
  "language_info": {
   "codemirror_mode": {
    "name": "ipython",
    "version": 3
   },
   "file_extension": ".py",
   "mimetype": "text/x-python",
   "name": "python",
   "nbconvert_exporter": "python",
   "pygments_lexer": "ipython3",
   "version": "3.9.7"
  }
 },
 "nbformat": 4,
 "nbformat_minor": 1
}
